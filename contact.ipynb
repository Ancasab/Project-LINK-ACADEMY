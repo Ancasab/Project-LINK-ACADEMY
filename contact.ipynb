{
 "cells": [
  {
   "cell_type": "code",
   "execution_count": 1,
   "metadata": {},
   "outputs": [],
   "source": [
    "import unittest\n",
    "from selenium import webdriver\n",
    "from selenium.webdriver.common.by import By\n",
    "from selenium.webdriver.common.keys import Keys\n",
    "import time\n",
    "import datetime\n",
    "from selenium.webdriver.support.ui import WebDriverWait\n",
    "from selenium.webdriver.support import expected_conditions as EC\n",
    "from selenium.webdriver.chrome.options import Options\n",
    "\n",
    "driver = webdriver.Chrome()\n",
    "        \n",
    "chrome_options = Options()\n",
    "chrome_options.add_argument(\"--disable-search-engine-choice-screen\")\n",
    "driver = webdriver.Chrome(options=chrome_options)\n",
    "driver.get(\"https://ursus-breweries.ro\")"
   ]
  },
  {
   "cell_type": "code",
   "execution_count": 2,
   "metadata": {},
   "outputs": [],
   "source": [
    "# time.sleep(10)\n",
    "COOKIE_ID = \"CybotCookiebotDialogBodyLevelButtonAcceptWrapper\"\n",
    "driver.find_element(By.ID, COOKIE_ID).click()"
   ]
  },
  {
   "cell_type": "code",
   "execution_count": 3,
   "metadata": {},
   "outputs": [],
   "source": [
    "driver.find_element(By.CSS_SELECTOR, \".button-menu.button-menu--js.aos-init.aos-animate\").click()\n",
    "       \n"
   ]
  },
  {
   "cell_type": "code",
   "execution_count": 4,
   "metadata": {},
   "outputs": [],
   "source": [
    "# time.sleep(3)\n",
    "driver.find_element(By.LINK_TEXT, \"Contact\").click()\n",
    "time.sleep(3)"
   ]
  },
  {
   "cell_type": "code",
   "execution_count": 6,
   "metadata": {},
   "outputs": [],
   "source": [
    "driver.find_element(By.XPATH, \"/html/body/div[1]/section[1]/div[2]/div[2]/span\").click()\n",
    "time.sleep(3)\n",
    "\n",
    "driver.execute_script(\"window.scrollTo(0,700 + window.scrollY);\")"
   ]
  },
  {
   "cell_type": "code",
   "execution_count": 19,
   "metadata": {},
   "outputs": [],
   "source": [
    "input_first_name = driver.find_element(By.NAME, \"field-first_name\")\n",
    "input_first_name.send_keys(\"Popescu\")"
   ]
  },
  {
   "cell_type": "code",
   "execution_count": 20,
   "metadata": {},
   "outputs": [],
   "source": [
    "input_first_name.send_keys(Keys.TAB)"
   ]
  },
  {
   "cell_type": "code",
   "execution_count": 21,
   "metadata": {},
   "outputs": [],
   "source": [
    "input_second_name = driver.find_element(By.NAME, \"field-last_name\")\n",
    "input_second_name.send_keys(\"Marin\")"
   ]
  },
  {
   "cell_type": "code",
   "execution_count": 26,
   "metadata": {},
   "outputs": [],
   "source": [
    "input_second_name.send_keys(Keys.TAB)"
   ]
  },
  {
   "cell_type": "code",
   "execution_count": 27,
   "metadata": {},
   "outputs": [],
   "source": [
    "input_email = driver.find_element(By.NAME, \"field-email\")\n",
    "input_email.send_keys(\"Marin_Popescu@yaho.com\")"
   ]
  },
  {
   "cell_type": "code",
   "execution_count": 28,
   "metadata": {},
   "outputs": [],
   "source": [
    "input_email.send_keys(Keys.TAB)"
   ]
  },
  {
   "cell_type": "code",
   "execution_count": 30,
   "metadata": {},
   "outputs": [],
   "source": [
    "input_message = driver.find_element(By.NAME, \"field-message\")\n",
    "input_message.send_keys(\"Mesaj test\")\n"
   ]
  },
  {
   "cell_type": "code",
   "execution_count": 31,
   "metadata": {},
   "outputs": [],
   "source": [
    "btn_trimite = driver.find_element(By.CLASS_NAME, \"btn--submit-ro\")\n",
    "btn_trimite.send_keys(Keys.ENTER)\n",
    "time.sleep(5)"
   ]
  },
  {
   "cell_type": "code",
   "execution_count": 32,
   "metadata": {},
   "outputs": [
    {
     "data": {
      "text/plain": [
       "'Mesajul tău a fost trimis.'"
      ]
     },
     "execution_count": 32,
     "metadata": {},
     "output_type": "execute_result"
    }
   ],
   "source": [
    "mesaj_confirmare = driver.find_element(By.CLASS_NAME, \"wpcf7-response-output\")\n",
    "mesaj_confirmare.text"
   ]
  },
  {
   "cell_type": "code",
   "execution_count": 35,
   "metadata": {},
   "outputs": [],
   "source": [
    "input_first_name = driver.find_element(By.NAME, \"field-first_name\")\n",
    "input_first_name.send_keys(\"\")\n",
    "input_first_name.send_keys(Keys.ENTER)"
   ]
  },
  {
   "cell_type": "code",
   "execution_count": 37,
   "metadata": {},
   "outputs": [
    {
     "data": {
      "text/plain": [
       "'Unul sau mai multe câmpuri au o eroare. Te rog să verifici și să încerci din nou.'"
      ]
     },
     "execution_count": 37,
     "metadata": {},
     "output_type": "execute_result"
    }
   ],
   "source": [
    "mesaj_eroare = driver.find_element(By.CLASS_NAME, \"wpcf7-response-output\")\n",
    "mesaj_eroare.text"
   ]
  },
  {
   "cell_type": "code",
   "execution_count": 38,
   "metadata": {},
   "outputs": [
    {
     "data": {
      "text/plain": [
       "'Câmpul este obligatoriu.'"
      ]
     },
     "execution_count": 38,
     "metadata": {},
     "output_type": "execute_result"
    }
   ],
   "source": [
    "mesaj_eroare1 = driver.find_element(By.CLASS_NAME, \"wpcf7-not-valid-tip\")\n",
    "mesaj_eroare1.text"
   ]
  },
  {
   "cell_type": "code",
   "execution_count": 39,
   "metadata": {},
   "outputs": [],
   "source": [
    "input_email = driver.find_element(By.NAME, \"field-email\")\n",
    "input_email.send_keys(\"Marin_Popescu@\")"
   ]
  },
  {
   "cell_type": "code",
   "execution_count": 41,
   "metadata": {},
   "outputs": [],
   "source": [
    "input_email.send_keys(Keys.ENTER)"
   ]
  },
  {
   "cell_type": "code",
   "execution_count": 42,
   "metadata": {},
   "outputs": [
    {
     "data": {
      "text/plain": [
       "'Adresa de email introdusă este invalidă.'"
      ]
     },
     "execution_count": 42,
     "metadata": {},
     "output_type": "execute_result"
    }
   ],
   "source": [
    "mesaj_eroare2 = driver.find_element(By.CLASS_NAME, \"wpcf7-not-valid-tip\")\n",
    "mesaj_eroare2.text"
   ]
  }
 ],
 "metadata": {
  "kernelspec": {
   "display_name": "Python 3",
   "language": "python",
   "name": "python3"
  },
  "language_info": {
   "codemirror_mode": {
    "name": "ipython",
    "version": 3
   },
   "file_extension": ".py",
   "mimetype": "text/x-python",
   "name": "python",
   "nbconvert_exporter": "python",
   "pygments_lexer": "ipython3",
   "version": "3.12.0"
  }
 },
 "nbformat": 4,
 "nbformat_minor": 2
}
