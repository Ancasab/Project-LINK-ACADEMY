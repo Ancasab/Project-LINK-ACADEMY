{
 "cells": [
  {
   "cell_type": "code",
   "execution_count": 25,
   "metadata": {},
   "outputs": [],
   "source": [
    "\n",
    "from selenium import webdriver\n",
    "from selenium.webdriver.common.by import By\n",
    "from selenium.webdriver.common.keys import Keys\n",
    "import time\n",
    "from selenium.webdriver.chrome.options import Options\n",
    "\n",
    "driver = webdriver.Chrome()\n",
    "chrome_options = Options()\n",
    "chrome_options.add_argument(\"--disable-search-engine-choice-screen\")\n",
    "driver = webdriver.Chrome(options=chrome_options)\n",
    "driver.get(\"https://ursus-breweries.ro\")\n",
    "\n"
   ]
  },
  {
   "cell_type": "code",
   "execution_count": 26,
   "metadata": {},
   "outputs": [],
   "source": [
    "# time.sleep(10)\n",
    "COOKIE_ID = \"CybotCookiebotDialogBodyLevelButtonAcceptWrapper\"\n",
    "driver.find_element(By.ID, COOKIE_ID).click()"
   ]
  },
  {
   "cell_type": "code",
   "execution_count": 23,
   "metadata": {},
   "outputs": [],
   "source": [
    "# driver.find_element(By.CSS_SELECTOR, \".button-menu.button-menu--js.aos-init.aos-animate\").click()"
   ]
  },
  {
   "cell_type": "code",
   "execution_count": 30,
   "metadata": {},
   "outputs": [],
   "source": [
    "time.sleep(3)\n",
    "driver.maximize_window()\n",
    "linkedin = driver.find_elements(By.ID, \"menu-item-179\")\n",
    "linkedin[0].click()"
   ]
  },
  {
   "cell_type": "code",
   "execution_count": null,
   "metadata": {},
   "outputs": [],
   "source": [
    "time.sleep(3)\n",
    "# linkedin_message = driver.find_element(By.XPATH, '//*[@id=\"organic-div\"]/div[1]/p') \n",
    "# linkedin_message.text == \"Stay updated on your professional world.\"\n",
    "# linkedin_message = driver.find_element(By.XPATH, \"*/div[@id='app__container']//div[contains(text(), 'Stay updated on your professional world.')]\")\n",
    "linkedin_message = driver.find_element(By.CSS_SELECTOR, \".btn__primary--large.from__button--floating\")\n",
    "\n",
    "\n",
    "\n",
    "linkedin_message"
   ]
  },
  {
   "cell_type": "code",
   "execution_count": 24,
   "metadata": {},
   "outputs": [],
   "source": [
    "javascript_code = \"\"\"\n",
    "var consent_ln = document.querySelector(\".artdeco-global-alert-action.artdeco-button.artdeco-button--inverse.artdeco-button--2.artdeco-button--primary\")\n",
    "consent_ln.click()\n",
    "\"\"\"\n",
    "\n"
   ]
  },
  {
   "cell_type": "code",
   "execution_count": null,
   "metadata": {},
   "outputs": [],
   "source": [
    "driver.execute_script(javascript_code)"
   ]
  },
  {
   "cell_type": "code",
   "execution_count": null,
   "metadata": {},
   "outputs": [],
   "source": [
    "time.sleep(3)\n",
    "driver.maximize_window()\n",
    "facebook = driver.find_element(By.ID, \"menu-item-176\")\n",
    "facebook.click()"
   ]
  },
  {
   "cell_type": "code",
   "execution_count": null,
   "metadata": {},
   "outputs": [],
   "source": [
    "time.sleep(3)\n",
    "facebook_login = driver.find_elements(By.CSS_SELECTOR, \"#login_form > a\")\n",
    "facebook_login"
   ]
  },
  {
   "cell_type": "code",
   "execution_count": 22,
   "metadata": {},
   "outputs": [],
   "source": [
    "# driver.quit()"
   ]
  },
  {
   "cell_type": "code",
   "execution_count": 47,
   "metadata": {},
   "outputs": [],
   "source": [
    "javascript_code = \"\"\"\n",
    "    var consent_fb = document.getElementsById(\":r3:\")\n",
    "    consent_fb.click\n",
    "\"\"\"\n",
    "# javascript_code = \"\"\"\n",
    "#     var consent_fb = document.querrySelector(\"#:r3:\")\n",
    "#     consent_fb.click()\n",
    "# \"\"\"\n"
   ]
  },
  {
   "cell_type": "code",
   "execution_count": null,
   "metadata": {},
   "outputs": [],
   "source": [
    "# driver.execute_script(javascript_code)"
   ]
  },
  {
   "cell_type": "code",
   "execution_count": null,
   "metadata": {},
   "outputs": [],
   "source": [
    "time.sleep(3)\n",
    "facebook_messages = driver.find_elements(By.XPATH, \"//*[@id=\":r3:\"]\")\n",
    "facebook_messages "
   ]
  },
  {
   "cell_type": "code",
   "execution_count": null,
   "metadata": {},
   "outputs": [],
   "source": [
    "driver.maximize_window()\n",
    "facebook_messages = driver.find_elements(By.CSS_SELECTOR, \"#\\:r3\\:\")\n",
    "facebook_messages "
   ]
  },
  {
   "cell_type": "markdown",
   "metadata": {},
   "source": []
  }
 ],
 "metadata": {
  "kernelspec": {
   "display_name": "Python 3",
   "language": "python",
   "name": "python3"
  },
  "language_info": {
   "codemirror_mode": {
    "name": "ipython",
    "version": 3
   },
   "file_extension": ".py",
   "mimetype": "text/x-python",
   "name": "python",
   "nbconvert_exporter": "python",
   "pygments_lexer": "ipython3",
   "version": "3.12.0"
  }
 },
 "nbformat": 4,
 "nbformat_minor": 2
}
